{
  "nbformat": 4,
  "nbformat_minor": 0,
  "metadata": {
    "colab": {
      "provenance": [],
      "authorship_tag": "ABX9TyOYgartpyQTVFuOEImnhoXz",
      "include_colab_link": true
    },
    "kernelspec": {
      "name": "python3",
      "display_name": "Python 3"
    },
    "language_info": {
      "name": "python"
    }
  },
  "cells": [
    {
      "cell_type": "markdown",
      "metadata": {
        "id": "view-in-github",
        "colab_type": "text"
      },
      "source": [
        "<a href=\"https://colab.research.google.com/github/matsu641/APS360Project/blob/main/APS360_project_data_processing.ipynb\" target=\"_parent\"><img src=\"https://colab.research.google.com/assets/colab-badge.svg\" alt=\"Open In Colab\"/></a>"
      ]
    },
    {
      "cell_type": "code",
      "source": [
        "from google.colab import drive\n",
        "drive.mount('/content/drive')"
      ],
      "metadata": {
        "colab": {
          "base_uri": "https://localhost:8080/"
        },
        "id": "-bzsHU1LcYyB",
        "outputId": "a38cafed-86d5-42cf-fbcf-2f90613c4e93"
      },
      "execution_count": null,
      "outputs": [
        {
          "output_type": "stream",
          "name": "stdout",
          "text": [
            "Drive already mounted at /content/drive; to attempt to forcibly remount, call drive.mount(\"/content/drive\", force_remount=True).\n"
          ]
        }
      ]
    },
    {
      "cell_type": "code",
      "source": [
        "import pandas as pd\n",
        "import os\n",
        "import shutil\n",
        "\n",
        "#Load CSV with image metadata and labels\n",
        "csv_path = \"/content/drive/MyDrive/NIH_ChestXray/Data_Entry_2017.csv\"\n",
        "df = pd.read_csv(csv_path)\n",
        "\n",
        "# Define target classes\n",
        "# keep 4 classes only for this project\n",
        "target_classes = [\"No Finding\", \"Pneumonia\", \"Effusion\", \"Cardiomegaly\"]\n",
        "\n",
        "# Keep only rows where the label matches one of the target classes exactly\n",
        "df_filtered = df[df[\"Finding Labels\"].isin(target_classes)]\n",
        "\n",
        "print(\"Original dataset size:\", len(df))\n",
        "print(\"Filtered dataset size:\", len(df_filtered))"
      ],
      "metadata": {
        "colab": {
          "base_uri": "https://localhost:8080/"
        },
        "id": "nSNt3HRt6KDA",
        "outputId": "da12445c-5453-4c4c-b134-036fb64fabea"
      },
      "execution_count": null,
      "outputs": [
        {
          "output_type": "stream",
          "name": "stdout",
          "text": [
            "Original dataset size: 112120\n",
            "Filtered dataset size: 65731\n"
          ]
        }
      ]
    },
    {
      "cell_type": "code",
      "source": [
        "# Split multi-label entries into separate labels\n",
        "all_labels = []\n",
        "for entry in df[\"Finding Labels\"]:\n",
        "    labels = entry.split('|')  # labels are separated by \"|\"\n",
        "    all_labels.extend(labels)\n",
        "\n",
        "# Count frequency\n",
        "label_counts = pd.Series(all_labels).value_counts()\n",
        "\n",
        "# Convert to percentage\n",
        "label_percent = (label_counts / len(df)) * 100\n",
        "\n",
        "# Combine into a single DataFrame\n",
        "summary = pd.DataFrame({\n",
        "    \"Count\": label_counts,\n",
        "    \"Percentage\": label_percent.round(2)\n",
        "})\n",
        "\n",
        "print(summary)"
      ],
      "metadata": {
        "id": "yzXaAw1o6637",
        "outputId": "93e5b284-0863-4954-80a4-2823a81ab005",
        "colab": {
          "base_uri": "https://localhost:8080/"
        }
      },
      "execution_count": null,
      "outputs": [
        {
          "output_type": "stream",
          "name": "stdout",
          "text": [
            "                    Count  Percentage\n",
            "No Finding          60361       53.84\n",
            "Infiltration        19894       17.74\n",
            "Effusion            13317       11.88\n",
            "Atelectasis         11559       10.31\n",
            "Nodule               6331        5.65\n",
            "Mass                 5782        5.16\n",
            "Pneumothorax         5302        4.73\n",
            "Consolidation        4667        4.16\n",
            "Pleural_Thickening   3385        3.02\n",
            "Cardiomegaly         2776        2.48\n",
            "Emphysema            2516        2.24\n",
            "Edema                2303        2.05\n",
            "Fibrosis             1686        1.50\n",
            "Pneumonia            1431        1.28\n",
            "Hernia                227        0.20\n"
          ]
        }
      ]
    },
    {
      "cell_type": "code",
      "execution_count": null,
      "metadata": {
        "colab": {
          "base_uri": "https://localhost:8080/"
        },
        "id": "AVkJI2w3cW2w",
        "outputId": "e30e8e55-9c1b-4482-8b6d-c73da1d0a2e0"
      },
      "outputs": [
        {
          "output_type": "stream",
          "name": "stdout",
          "text": [
            "Subset dataset created successfully!\n"
          ]
        }
      ],
      "source": [
        "# Create output directories for each class\n",
        "output_dir = \"/content/drive/MyDrive/NIH_ChestXray_subset\"\n",
        "os.makedirs(output_dir, exist_ok=True)\n",
        "\n",
        "for cls in target_classes:\n",
        "    os.makedirs(os.path.join(output_dir, cls), exist_ok=True)\n",
        "\n",
        "# Copy selected images into class-specific folders\n",
        "images_dir = \"/content/drive/MyDrive/NIH_ChestXray/images\"\n",
        "\n",
        "for _, row in df_filtered.iterrows():\n",
        "    fname = row[\"Image Index\"]\n",
        "    label = row[\"Finding Labels\"]\n",
        "\n",
        "    src = os.path.join(images_dir, fname)\n",
        "    dst = os.path.join(output_dir, label, fname)\n",
        "\n",
        "    if os.path.exists(src):\n",
        "        shutil.copy(src, dst)\n",
        "\n",
        "print(\"Subset dataset created successfully!\")\n"
      ]
    },
    {
      "cell_type": "code",
      "source": [
        "counts = {}\n",
        "for cls in os.listdir(output_dir):\n",
        "    class_path = os.path.join(output_dir, cls)\n",
        "    if os.path.isdir(class_path):\n",
        "        num_files = len([f for f in os.listdir(class_path) if f.lower().endswith(('.png', '.jpg', '.jpeg'))])\n",
        "        counts[cls] = num_files\n",
        "        print(f\"{cls}: {num_files} images\")"
      ],
      "metadata": {
        "id": "2PpeLb_tj1Bu",
        "colab": {
          "base_uri": "https://localhost:8080/"
        },
        "outputId": "d0804efd-7e64-4210-de3d-2f45bf4752b8"
      },
      "execution_count": null,
      "outputs": [
        {
          "output_type": "stream",
          "name": "stdout",
          "text": [
            "No Finding: 5999 images\n",
            "Pneumonia: 34 images\n",
            "Effusion: 309 images\n",
            "Cardiomegaly: 91 images\n"
          ]
        }
      ]
    },
    {
      "cell_type": "code",
      "source": [
        "total = sum(counts.values())\n",
        "\n",
        "for cls, num in counts.items():\n",
        "    ratio = num / total * 100\n",
        "    print(f\"{cls}: {num} images ({ratio:.2f}%)\")\n",
        "\n",
        "print(f\"\\nTotal images: {total}\")"
      ],
      "metadata": {
        "colab": {
          "base_uri": "https://localhost:8080/"
        },
        "id": "UZacofa_GmT8",
        "outputId": "12fd2d86-744d-407e-a764-fe2fbff1794f"
      },
      "execution_count": null,
      "outputs": [
        {
          "output_type": "stream",
          "name": "stdout",
          "text": [
            "No Finding: 5999 images (93.25%)\n",
            "Pneumonia: 34 images (0.53%)\n",
            "Effusion: 309 images (4.80%)\n",
            "Cardiomegaly: 91 images (1.41%)\n",
            "\n",
            "Total images: 6433\n"
          ]
        }
      ]
    }
  ]
}